{
 "cells": [
  {
   "cell_type": "markdown",
   "metadata": {},
   "source": [
    "### Istanbul Travel Guide"
   ]
  },
  {
   "cell_type": "code",
   "execution_count": 37,
   "metadata": {},
   "outputs": [
    {
     "data": {
      "text/plain": [
       "True"
      ]
     },
     "execution_count": 37,
     "metadata": {},
     "output_type": "execute_result"
    }
   ],
   "source": [
    "import os\n",
    "from dotenv import load_dotenv, dotenv_values\n",
    "\n",
    "# Load the .env file\n",
    "load_dotenv()"
   ]
  },
  {
   "cell_type": "markdown",
   "metadata": {},
   "source": [
    "### create an index for the documents"
   ]
  },
  {
   "cell_type": "code",
   "execution_count": 6,
   "metadata": {},
   "outputs": [],
   "source": [
    "### create an index for the documents\n",
    "\n",
    "from langchain_openai import OpenAIEmbeddings\n",
    "from langchain_community.vectorstores import Chroma\n",
    "from langchain.text_splitter import RecursiveCharacterTextSplitter\n",
    "from langchain_community.document_loaders import PyPDFLoader\n",
    "\n",
    "file_paths = [\"C://Users//LENOVO//Desktop//LangGraph//datasets//istanbul-city-guide.pdf\",\n",
    "              \"C://Users//LENOVO//Desktop//LangGraph//datasets//istanbul-visitors-guide-2.pdf\",\n",
    "              \"C://Users//LENOVO//Desktop//LangGraph//datasets//istanbul-visitors-guide.pdf\"]\n",
    "\n",
    "embeddings = OpenAIEmbeddings(model=\"text-embedding-3-small\")\n",
    "\n",
    "docs = []\n",
    "\n",
    "for file_path in file_paths:\n",
    "    loader = PyPDFLoader(file_path)\n",
    "    docs.extend(loader.load())\n",
    "\n",
    "text_splitter = RecursiveCharacterTextSplitter(chunk_size=512,\n",
    "                                               chunk_overlap=64,\n",
    "                                               add_start_index=True)\n",
    "\n",
    "all_splits = text_splitter.split_documents(docs)\n",
    "\n",
    "vectorstore = Chroma.from_documents(documents=all_splits,\n",
    "                                    collection_name=\"guide-rag-chroma\",\n",
    "                                    embedding=embeddings\n",
    "                                   )\n",
    "\n",
    "retriever = vectorstore.as_retriever(search_type=\"similarity\", search_kwargs={\"k\": 3})"
   ]
  },
  {
   "cell_type": "code",
   "execution_count": 8,
   "metadata": {},
   "outputs": [
    {
     "data": {
      "text/plain": [
       "[Document(metadata={'page': 14, 'source': 'C://Users//LENOVO//Desktop//LangGraph//datasets//istanbul-visitoers-guide.pdf', 'start_index': 0}, page_content='13\\nHISTORY\\nTHe ONe aND ONl Y HagIa SOPHIa \\nThe Hagia Sophia, one of the \\nhistorical architectural wonders \\nof the world, has a very important place in the art world with its architecture, grandness, size and functionality. The Hagia Sophia, the biggest church constructed by the East Roman Empire in Istanbul, \\nhas been constructed three times \\nin the same location. The church \\nwas the place in which rulers \\nwere crowned, and it was also the biggest operational cathedral in \\nthe city throughout the Byzantine'),\n",
       " Document(metadata={'page': 37, 'source': 'C://Users//LENOVO//Desktop//LangGraph//datasets//istanbul-visitoers-guide-2.pdf', 'start_index': 879}, page_content='acter.  Mosque elements such as a mimbar, a mihrab, preacher’s platform and wooden balustrades \\nwere added inside. Mahmut I had a library built here. The southern courtyard includes mauso-\\nleums of Murat III, Mehmet III, and Selim II. The original baptistery was converted into a mausoleum for Mustafa I and Sultan Ibrahim. Hagia Sophia opened as a museum in 1935.\\nVisiting hours: 9:00-16:30 - Closed on MondaysHAGIA SOPHIA\\nDominating the Sultanahmet Square and the city’s skyline, this'),\n",
       " Document(metadata={'page': 14, 'source': 'C://Users//LENOVO//Desktop//LangGraph//datasets//istanbul-visitoers-guide.pdf', 'start_index': 1971}, page_content='The Hagia Sophia was converted \\ninto a museum by Mustafa Kemal Atatürk’s orders and has been functioning as one since 1935. The museum welcomes visitors from all around the world and is one of the most magnificent tourist attractions of Istanbul. The design and architecture of the museum is unbelievably gorgeous.')]"
      ]
     },
     "execution_count": 8,
     "metadata": {},
     "output_type": "execute_result"
    }
   ],
   "source": [
    "retriever.invoke(\"Hagia Sophia\")"
   ]
  },
  {
   "cell_type": "markdown",
   "metadata": {},
   "source": [
    "### TranslateQuery"
   ]
  },
  {
   "cell_type": "code",
   "execution_count": 9,
   "metadata": {},
   "outputs": [
    {
     "name": "stdout",
     "output_type": "stream",
     "text": [
      "Where is the Hagia Sophia mosque?\n",
      "What is the best traditional food to eat in Istanbul?\n"
     ]
    }
   ],
   "source": [
    "### TranslateQuery\n",
    "\n",
    "from langchain_core.output_parsers import StrOutputParser\n",
    "from langchain_openai import ChatOpenAI\n",
    "from langchain_core.prompts import ChatPromptTemplate\n",
    "\n",
    "# LLM\n",
    "llm = ChatOpenAI(model=\"gpt-4o-mini\", temperature=0)\n",
    "\n",
    "# Prompt\n",
    "system = \"\"\"Translate the question into English if the question is in another language. \\n\n",
    "If the question is in English, do nothing.\"\"\"\n",
    "translate_prompt = ChatPromptTemplate.from_messages(\n",
    "    [\n",
    "        (\"system\", system),\n",
    "        (\n",
    "            \"human\",\n",
    "            \"Here is the initial question: \\n\\n {question} \\n Translate the question into English.\",\n",
    "        ),\n",
    "    ]\n",
    ")\n",
    "\n",
    "turkish_question = \"Ayasofya cami nerededir?\"\n",
    "english_question2 = \"What is the best traditional food to eat in Istanbul?\"\n",
    "\n",
    "question_translater = translate_prompt | llm | StrOutputParser()\n",
    "print(question_translater.invoke({\"question\": turkish_question}))\n",
    "print(question_translater.invoke({\"question\": english_question2}))"
   ]
  },
  {
   "cell_type": "markdown",
   "metadata": {},
   "source": [
    "### router"
   ]
  },
  {
   "cell_type": "code",
   "execution_count": 10,
   "metadata": {},
   "outputs": [
    {
     "name": "stdout",
     "output_type": "stream",
     "text": [
      "datasource='web_search'\n",
      "datasource='vectorstore'\n"
     ]
    }
   ],
   "source": [
    "### Router\n",
    "\n",
    "from typing import Literal\n",
    "\n",
    "from langchain_core.prompts import ChatPromptTemplate\n",
    "from langchain_core.pydantic_v1 import BaseModel, Field\n",
    "from langchain_openai import ChatOpenAI\n",
    "\n",
    "\n",
    "# Data model\n",
    "class RouteQuery(BaseModel):\n",
    "    \"\"\"\n",
    "    Route a user query to the most relevant datasource.\n",
    "    \"\"\"\n",
    "\n",
    "    datasource: Literal[\"vectorstore\", \"web_search\"] = Field(\n",
    "        ...,\n",
    "        description=\"Given a user question choose to route it to web search or a vectorstore.\",\n",
    "    )\n",
    "\n",
    "\n",
    "# LLM with function call\n",
    "llm = ChatOpenAI(model=\"gpt-4o-mini\", temperature=0)\n",
    "structured_llm_router = llm.with_structured_output(RouteQuery)\n",
    "\n",
    "# Prompt\n",
    "system = \"\"\"\n",
    "You are an expert at routing a user question to a vectorstore or web search.\n",
    "Vectorstore contains documents about the history of Istanbul, touristic and historical places of Istanbul, and food and travel tips for tourists.\n",
    "Use vectorstore for questions on these topics. If the question is about transportation, weather, and other things, use web search.\n",
    "\"\"\"\n",
    "\n",
    "route_prompt = ChatPromptTemplate.from_messages(\n",
    "    [\n",
    "        (\"system\", system),\n",
    "        (\"human\", \"{question}\"),\n",
    "    ]\n",
    ")\n",
    "\n",
    "question_router = route_prompt | structured_llm_router\n",
    "\n",
    "print(\n",
    "    question_router.invoke(\n",
    "        {\"question\": \"What is the weather like in Istanbul?\"}\n",
    "    )\n",
    ")\n",
    "\n",
    "print(\n",
    "    question_router.invoke(\n",
    "        {\"question\": \"Where is the Hagia Sophia located?\"}\n",
    "        )\n",
    ")"
   ]
  },
  {
   "cell_type": "markdown",
   "metadata": {},
   "source": [
    "### Retrieval Grader"
   ]
  },
  {
   "cell_type": "code",
   "execution_count": 11,
   "metadata": {},
   "outputs": [
    {
     "name": "stdout",
     "output_type": "stream",
     "text": [
      "binary_score='yes'\n",
      "binary_score='no'\n"
     ]
    }
   ],
   "source": [
    "### Retrieval Grader\n",
    "\n",
    "# Data model\n",
    "class GradeDocuments(BaseModel):\n",
    "    \"\"\"Binary score for relevance check on retrieved documents.\"\"\"\n",
    "\n",
    "    binary_score: str = Field(\n",
    "        ...,\n",
    "        description=\"Documents are relevant to the question, 'yes' or 'no'\"\n",
    "    )\n",
    "\n",
    "\n",
    "# LLM with function call\n",
    "llm = ChatOpenAI(model=\"gpt-4o-mini\", temperature=0)\n",
    "structured_llm_grader = llm.with_structured_output(GradeDocuments)\n",
    "\n",
    "# Prompt\n",
    "system = \"\"\"You are a grader assessing relevance of a retrieved document to a user question. \\n \n",
    "If the document contains keyword(s) or semantic meaning related to the user question, grade it as relevant. \\n\n",
    "It does not need to be a stringent test. The goal is to filter out erroneous retrievals. \\n\n",
    "Give a binary score 'yes' or 'no' score to indicate whether the document is relevant to the question.\"\"\"\n",
    "grade_prompt = ChatPromptTemplate.from_messages(\n",
    "    [\n",
    "        (\"system\", system),\n",
    "        (\"human\", \"Retrieved document: \\n\\n {document} \\n\\n User question: {question}\"),\n",
    "    ]\n",
    ")\n",
    "\n",
    "retrieval_grader = grade_prompt | structured_llm_grader\n",
    "\n",
    "question = \"Where is the Hagia Sophia located?\"\n",
    "\n",
    "docs_relevant = retriever.invoke(question)\n",
    "doc_txt = docs_relevant[1].page_content\n",
    "print(retrieval_grader.invoke({\"question\": question, \"document\": doc_txt}))\n",
    "\n",
    "question_2 = \"What are LeBron James' stats for 2023-2024 NBA Regular season?\"\n",
    "\n",
    "docs_relevant_2 = retriever.invoke(question)\n",
    "doc_txt_2 = docs_relevant[1].page_content\n",
    "print(retrieval_grader.invoke({\"question\": question_2, \"document\": doc_txt_2}))"
   ]
  },
  {
   "cell_type": "markdown",
   "metadata": {},
   "source": [
    "### Generate"
   ]
  },
  {
   "cell_type": "code",
   "execution_count": 12,
   "metadata": {},
   "outputs": [
    {
     "name": "stdout",
     "output_type": "stream",
     "text": [
      "The Hagia Sophia is located in Sultanahmet Square, which is in the heart of Istanbul, Turkey. This iconic structure is one of the most significant historical and architectural wonders of the world. Originally built as a cathedral during the Byzantine Empire, it has served various purposes throughout its history, including being a mosque and, more recently, a museum. The Hagia Sophia is renowned for its stunning architecture and grand scale, making it a must-visit attraction for tourists from around the globe.\n"
     ]
    }
   ],
   "source": [
    "### Generate\n",
    "\n",
    "from langchain import hub\n",
    "from langchain_core.output_parsers import StrOutputParser\n",
    "\n",
    "# Prompt\n",
    "prompt = hub.pull(\"e-ticaret-qa-prompt/istanbul-guide-rag\")\n",
    "\n",
    "# LLM\n",
    "llm = ChatOpenAI(model_name=\"gpt-4o-mini\", temperature=0)\n",
    "\n",
    "\n",
    "# Post-processing\n",
    "def format_docs(docs):\n",
    "    return \"\\n\\n\".join(doc.page_content for doc in docs)\n",
    "\n",
    "\n",
    "# Chain\n",
    "rag_chain = prompt | llm | StrOutputParser()\n",
    "\n",
    "# Run\n",
    "generation = rag_chain.invoke({\"context\": docs_relevant, \"question\": question})\n",
    "print(generation)"
   ]
  },
  {
   "cell_type": "markdown",
   "metadata": {},
   "source": [
    "### Hallucination Grader"
   ]
  },
  {
   "cell_type": "code",
   "execution_count": 13,
   "metadata": {},
   "outputs": [
    {
     "data": {
      "text/plain": [
       "GradeHallucinations(binary_score='yes')"
      ]
     },
     "execution_count": 13,
     "metadata": {},
     "output_type": "execute_result"
    }
   ],
   "source": [
    "### Hallucination Grader\n",
    "\n",
    "# Data model\n",
    "class GradeHallucinations(BaseModel):\n",
    "    \"\"\"Binary score for hallucination present in generation answer.\"\"\"\n",
    "\n",
    "    binary_score: str = Field(\n",
    "        description=\"Answer is grounded in the facts, 'yes' or 'no'\"\n",
    "    )\n",
    "\n",
    "\n",
    "# LLM with function call\n",
    "llm = ChatOpenAI(model=\"gpt-4o-mini\", temperature=0)\n",
    "structured_llm_grader = llm.with_structured_output(GradeHallucinations)\n",
    "\n",
    "# Prompt\n",
    "system = \"\"\"You are a grader assessing whether an LLM generation is grounded in / supported by a set of retrieved facts. \\n \n",
    "     Give a binary score 'yes' or 'no'. 'Yes' means that the answer is grounded in / supported by the set of facts.\"\"\"\n",
    "hallucination_prompt = ChatPromptTemplate.from_messages(\n",
    "    [\n",
    "        (\"system\", system),\n",
    "        (\"human\", \"Set of facts: \\n\\n {documents} \\n\\n LLM generation: {generation}\"),\n",
    "    ]\n",
    ")\n",
    "\n",
    "hallucination_grader = hallucination_prompt | structured_llm_grader\n",
    "hallucination_grader.invoke({\"documents\": docs, \"generation\": generation})"
   ]
  },
  {
   "cell_type": "markdown",
   "metadata": {},
   "source": [
    "### Answer Grader"
   ]
  },
  {
   "cell_type": "code",
   "execution_count": 14,
   "metadata": {},
   "outputs": [
    {
     "data": {
      "text/plain": [
       "GradeAnswer(binary_score='yes')"
      ]
     },
     "execution_count": 14,
     "metadata": {},
     "output_type": "execute_result"
    }
   ],
   "source": [
    "### Answer Grader\n",
    "\n",
    "# Data model\n",
    "class GradeAnswer(BaseModel):\n",
    "    \"\"\"Binary score to assess answer addresses question.\"\"\"\n",
    "\n",
    "    binary_score: str = Field(\n",
    "        description=\"Answer addresses the question, 'yes' or 'no'\"\n",
    "    )\n",
    "\n",
    "\n",
    "# LLM with function call\n",
    "llm = ChatOpenAI(model=\"gpt-4o-mini\", temperature=0)\n",
    "structured_llm_grader = llm.with_structured_output(GradeAnswer)\n",
    "\n",
    "# Prompt\n",
    "system = \"\"\"You are a grader assessing whether an answer addresses / resolves a question \\n \n",
    "     Give a binary score 'yes' or 'no'. Yes' means that the answer resolves the question.\"\"\"\n",
    "answer_prompt = ChatPromptTemplate.from_messages(\n",
    "    [\n",
    "        (\"system\", system),\n",
    "        (\"human\", \"User question: \\n\\n {question} \\n\\n LLM generation: {generation}\"),\n",
    "    ]\n",
    ")\n",
    "\n",
    "answer_grader = answer_prompt | structured_llm_grader\n",
    "answer_grader.invoke({\"question\": question, \"generation\": generation})"
   ]
  },
  {
   "cell_type": "markdown",
   "metadata": {},
   "source": [
    "### Question Re-writer"
   ]
  },
  {
   "cell_type": "code",
   "execution_count": 15,
   "metadata": {},
   "outputs": [
    {
     "data": {
      "text/plain": [
       "'What is the location of the Hagia Sophia?'"
      ]
     },
     "execution_count": 15,
     "metadata": {},
     "output_type": "execute_result"
    }
   ],
   "source": [
    "### Question Re-writer\n",
    "\n",
    "# LLM\n",
    "llm = ChatOpenAI(model=\"gpt-3.5-turbo-0125\", temperature=0)\n",
    "\n",
    "# Prompt\n",
    "system = \"\"\"You a question re-writer that converts an input question to a better version that is optimized \\n \n",
    "     for vectorstore retrieval. Look at the input and try to reason about the underlying semantic intent / meaning.\"\"\"\n",
    "re_write_prompt = ChatPromptTemplate.from_messages(\n",
    "    [\n",
    "        (\"system\", system),\n",
    "        (\n",
    "            \"human\",\n",
    "            \"Here is the initial question: \\n\\n {question} \\n Formulate an improved question.\",\n",
    "        ),\n",
    "    ]\n",
    ")\n",
    "\n",
    "question_rewriter = re_write_prompt | llm | StrOutputParser()\n",
    "question_rewriter.invoke({\"question\": question})"
   ]
  },
  {
   "cell_type": "markdown",
   "metadata": {},
   "source": [
    "### tavily web search tool"
   ]
  },
  {
   "cell_type": "code",
   "execution_count": 16,
   "metadata": {},
   "outputs": [],
   "source": [
    "### tavily web search\n",
    "\n",
    "from langchain_community.tools.tavily_search import TavilySearchResults\n",
    "\n",
    "web_search_tool = TavilySearchResults(k=3)"
   ]
  },
  {
   "cell_type": "code",
   "execution_count": 17,
   "metadata": {},
   "outputs": [
    {
     "data": {
      "text/plain": [
       "[{'url': 'https://www.weatherapi.com/',\n",
       "  'content': \"{'location': {'name': 'Istanbul', 'region': 'Istanbul', 'country': 'Turkey', 'lat': 41.02, 'lon': 28.96, 'tz_id': 'Europe/Istanbul', 'localtime_epoch': 1724317089, 'localtime': '2024-08-22 11:58'}, 'current': {'last_updated_epoch': 1724316300, 'last_updated': '2024-08-22 11:45', 'temp_c': 27.2, 'temp_f': 81.0, 'is_day': 1, 'condition': {'text': 'Sunny', 'icon': '//cdn.weatherapi.com/weather/64x64/day/113.png', 'code': 1000}, 'wind_mph': 9.4, 'wind_kph': 15.1, 'wind_degree': 240, 'wind_dir': 'WSW', 'pressure_mb': 1008.0, 'pressure_in': 29.77, 'precip_mm': 0.0, 'precip_in': 0.0, 'humidity': 74, 'cloud': 0, 'feelslike_c': 27.9, 'feelslike_f': 82.3, 'windchill_c': 28.9, 'windchill_f': 84.0, 'heatindex_c': 30.1, 'heatindex_f': 86.1, 'dewpoint_c': 17.9, 'dewpoint_f': 64.3, 'vis_km': 10.0, 'vis_miles': 6.0, 'uv': 7.0, 'gust_mph': 13.9, 'gust_kph': 22.3}}\"},\n",
       " {'url': 'https://www.weathertab.com/en/c/e/08/republic-of-turkey/istanbul/istanbul/',\n",
       "  'content': 'Explore comprehensive August 2024 weather forecasts for İstanbul, including daily high and low temperatures, precipitation risks, and monthly temperature trends. ... Detailed İstanbul Weather Forecast for August 2024: Daily Precipitation Risks and Temperature Trends ... 22 83°F 64°F 28°C 18°C 06% 23 83°F 63°F 28°C 17°C 27%. 24 83°F ...'},\n",
       " {'url': 'https://world-weather.info/forecast/turkey/istanbul/22-august/',\n",
       "  'content': 'Weather in Istanbul, August 22. Weather Forecast for August 22 in Istanbul, Istanbul Province - temperature, wind, atmospheric pressure, humidity and precipitations. Detailed hourly weather chart. August 20 August 21 Select date: August 23 August 24. August 22, 2024 : Atmospheric conditions and temperature °F: RealFeel °F: Atmospheric'},\n",
       " {'url': 'https://www.meteoprog.com/weather/Istanbul/month/august/',\n",
       "  'content': 'İstanbul (Turkey) weather in August 2024 ☀️ Accurate weather forecast for İstanbul in August ⛅ Detailed forecast By month Current temperature \"near me\" Weather news ⊳ Widget of weather ⊳ Water temperature | METEOPROG. ... 22 August +28 °+23° 23 August +28 ...'},\n",
       " {'url': 'https://www.easeweather.com/europe/turkey/istanbul/august',\n",
       "  'content': 'The forecast for August 2024 in Istanbul predicts the temperature to closely align with the historical average at 31.1 ° C.. The average temperature at the beginning of August in Istanbul is 30.5 ° C.As the month progressed, temperatures tended to moderately fall, reaching an average of 29.3 ° C by the end of August.. Istanbul sees moderate rainfall in August, averaging 6 rainy days.'}]"
      ]
     },
     "execution_count": 17,
     "metadata": {},
     "output_type": "execute_result"
    }
   ],
   "source": [
    "web_search_tool.invoke(\"What is the weather like in Istanbul?\")"
   ]
  },
  {
   "cell_type": "markdown",
   "metadata": {},
   "source": [
    "### GraphState"
   ]
  },
  {
   "cell_type": "code",
   "execution_count": 18,
   "metadata": {},
   "outputs": [],
   "source": [
    "from typing import List\n",
    "\n",
    "from typing_extensions import TypedDict\n",
    "\n",
    "\n",
    "class GraphState(TypedDict):\n",
    "    \"\"\"\n",
    "    Represents the state of our graph.\n",
    "\n",
    "    Attributes:\n",
    "        question: question\n",
    "        generation: LLM generation\n",
    "        documents: list of documents\n",
    "    \"\"\"\n",
    "\n",
    "    question: str\n",
    "    generation: str\n",
    "    documents: List[str]"
   ]
  },
  {
   "cell_type": "code",
   "execution_count": 19,
   "metadata": {},
   "outputs": [],
   "source": [
    "from langchain.schema import Document\n",
    "\n",
    "def retrieve(state):\n",
    "    \"\"\"\n",
    "    Retrieve documents\n",
    "\n",
    "    Args:\n",
    "        state (dict): The current graph state\n",
    "\n",
    "    Returns:\n",
    "        state (dict): New key added to state, documents, that contains retrieved documents\n",
    "    \"\"\"\n",
    "    print(\"---RETRIEVE---\")\n",
    "    question = state[\"question\"]\n",
    "\n",
    "    # Retrieval\n",
    "    documents = retriever.invoke(question)\n",
    "    return {\"documents\": documents, \"question\": question}\n",
    "\n",
    "def translator(state):\n",
    "    \"\"\"\n",
    "    Translate the question into English if needed.\n",
    "\n",
    "    Args:\n",
    "        state(dict): The current graph state\n",
    "\n",
    "    Returns:\n",
    "        state (dict): The question translated to English language.\n",
    "    \"\"\"\n",
    "    print(\"---TRANSLATE THE QUERY TO ENGLISH---\")\n",
    "    question = state[\"question\"]\n",
    "\n",
    "    # Translate\n",
    "    translated_question = question_translater.invoke(question)\n",
    "    return {\"question\": translated_question}\n",
    "\n",
    "\n",
    "def generate(state):\n",
    "    \"\"\"\n",
    "    Generate answer\n",
    "\n",
    "    Args:\n",
    "        state (dict): The current graph state\n",
    "\n",
    "    Returns:\n",
    "        state (dict): New key added to state, generation, that contains LLM generation\n",
    "    \"\"\"\n",
    "    print(\"---GENERATE---\")\n",
    "    question = state[\"question\"]\n",
    "    documents = state[\"documents\"]\n",
    "\n",
    "    # RAG generation\n",
    "    generation = rag_chain.invoke({\"context\": documents, \"question\": question})\n",
    "    return {\"documents\": documents, \"question\": question, \"generation\": generation}\n",
    "\n",
    "\n",
    "def grade_documents(state):\n",
    "    \"\"\"\n",
    "    Determines whether the retrieved documents are relevant to the question.\n",
    "\n",
    "    Args:\n",
    "        state (dict): The current graph state\n",
    "\n",
    "    Returns:\n",
    "        state (dict): Updates documents key with only filtered relevant documents\n",
    "    \"\"\"\n",
    "\n",
    "    print(\"---CHECK DOCUMENT RELEVANCE TO QUESTION---\")\n",
    "    question = state[\"question\"]\n",
    "    documents = state[\"documents\"]\n",
    "\n",
    "    # Score each doc\n",
    "    filtered_docs = []\n",
    "    for d in documents:\n",
    "        score = retrieval_grader.invoke(\n",
    "            {\"question\": question, \"document\": d.page_content}\n",
    "        )\n",
    "        grade = score.binary_score\n",
    "        if grade == \"yes\":\n",
    "            print(\"---GRADE: DOCUMENT RELEVANT---\")\n",
    "            filtered_docs.append(d)\n",
    "        else:\n",
    "            print(\"---GRADE: DOCUMENT NOT RELEVANT---\")\n",
    "            continue\n",
    "    return {\"documents\": filtered_docs, \"question\": question}\n",
    "\n",
    "\n",
    "def transform_query(state):\n",
    "    \"\"\"\n",
    "    Transform the query to produce a better question.\n",
    "\n",
    "    Args:\n",
    "        state (dict): The current graph state\n",
    "\n",
    "    Returns:\n",
    "        state (dict): Updates question key with a re-phrased question\n",
    "    \"\"\"\n",
    "\n",
    "    print(\"---TRANSFORM QUERY---\")\n",
    "    question = state[\"question\"]\n",
    "    documents = state[\"documents\"]\n",
    "\n",
    "    # Re-write question\n",
    "    better_question = question_rewriter.invoke({\"question\": question})\n",
    "    return {\"documents\": documents, \"question\": better_question}\n",
    "\n",
    "\n",
    "def web_search(state):\n",
    "    \"\"\"\n",
    "    Web search based on the re-phrased question.\n",
    "\n",
    "    Args:\n",
    "        state (dict): The current graph state\n",
    "\n",
    "    Returns:\n",
    "        state (dict): Updates documents key with appended web results\n",
    "    \"\"\"\n",
    "\n",
    "    print(\"---WEB SEARCH---\")\n",
    "    question = state[\"question\"]\n",
    "\n",
    "    # Web search\n",
    "    docs = web_search_tool.invoke({\"query\": question})\n",
    "    web_results = \"\\n\".join([d[\"content\"] for d in docs])\n",
    "    web_results = Document(page_content=web_results)\n",
    "\n",
    "    return {\"documents\": web_results, \"question\": question}\n",
    "\n",
    "\n",
    "### Edges ###\n",
    "\n",
    "\n",
    "def route_question(state):\n",
    "    \"\"\"\n",
    "    Route question to web search or RAG.\n",
    "\n",
    "    Args:\n",
    "        state (dict): The current graph state\n",
    "\n",
    "    Returns:\n",
    "        str: Next node to call\n",
    "    \"\"\"\n",
    "\n",
    "    print(\"---ROUTE QUESTION---\")\n",
    "    question = state[\"question\"]\n",
    "    source = question_router.invoke({\"question\": question})\n",
    "    if source.datasource == \"web_search\":\n",
    "        print(\"---ROUTE QUESTION TO WEB SEARCH---\")\n",
    "        return \"web_search\"\n",
    "    elif source.datasource == \"vectorstore\":\n",
    "        print(\"---ROUTE QUESTION TO RAG---\")\n",
    "        return \"vectorstore\"\n",
    "\n",
    "\n",
    "def decide_to_generate(state):\n",
    "    \"\"\"\n",
    "    Determines whether to generate an answer, or re-generate a question.\n",
    "\n",
    "    Args:\n",
    "        state (dict): The current graph state\n",
    "\n",
    "    Returns:\n",
    "        str: Binary decision for next node to call\n",
    "    \"\"\"\n",
    "\n",
    "    print(\"---ASSESS GRADED DOCUMENTS---\")\n",
    "    state[\"question\"]\n",
    "    filtered_documents = state[\"documents\"]\n",
    "\n",
    "    if not filtered_documents:\n",
    "        # All documents have been filtered check_relevance\n",
    "        # We will re-generate a new query\n",
    "        print(\n",
    "            \"---DECISION: ALL DOCUMENTS ARE NOT RELEVANT TO QUESTION, TRANSFORM QUERY---\"\n",
    "        )\n",
    "        return \"transform_query\"\n",
    "    else:\n",
    "        # We have relevant documents, so generate answer\n",
    "        print(\"---DECISION: GENERATE---\")\n",
    "        return \"generate\"\n",
    "\n",
    "\n",
    "def grade_generation_v_documents_and_question(state):\n",
    "    \"\"\"\n",
    "    Determines whether the generation is grounded in the document and answers question.\n",
    "\n",
    "    Args:\n",
    "        state (dict): The current graph state\n",
    "\n",
    "    Returns:\n",
    "        str: Decision for next node to call\n",
    "    \"\"\"\n",
    "\n",
    "    print(\"---CHECK HALLUCINATIONS---\")\n",
    "    question = state[\"question\"]\n",
    "    documents = state[\"documents\"]\n",
    "    generation = state[\"generation\"]\n",
    "\n",
    "    score = hallucination_grader.invoke(\n",
    "        {\"documents\": documents, \"generation\": generation}\n",
    "    )\n",
    "    grade = score.binary_score\n",
    "\n",
    "    # Check hallucination\n",
    "    if grade == \"yes\":\n",
    "        print(\"---DECISION: GENERATION IS GROUNDED IN DOCUMENTS---\")\n",
    "        # Check question-answering\n",
    "        print(\"---GRADE GENERATION vs QUESTION---\")\n",
    "        score = answer_grader.invoke({\"question\": question, \"generation\": generation})\n",
    "        grade = score.binary_score\n",
    "        if grade == \"yes\":\n",
    "            print(\"---DECISION: GENERATION ADDRESSES QUESTION---\")\n",
    "            return \"useful\"\n",
    "        else:\n",
    "            print(\"---DECISION: GENERATION DOES NOT ADDRESS QUESTION---\")\n",
    "            return \"not useful\"\n",
    "    else:\n",
    "        pprint(\"---DECISION: GENERATION IS NOT GROUNDED IN DOCUMENTS, RE-TRY---\")\n",
    "        return \"not supported\""
   ]
  },
  {
   "cell_type": "markdown",
   "metadata": {},
   "source": [
    "### Build Graph"
   ]
  },
  {
   "cell_type": "code",
   "execution_count": 21,
   "metadata": {},
   "outputs": [],
   "source": [
    "from langgraph.graph import END, StateGraph, START\n",
    "\n",
    "workflow = StateGraph(GraphState)\n",
    "\n",
    "# Define the nodes\n",
    "workflow.add_node(\"translate_query\", translator)  # translator\n",
    "workflow.add_node(\"web_search\", web_search)  # web search\n",
    "workflow.add_node(\"retrieve\", retrieve)  # retrieve\n",
    "workflow.add_node(\"grade_documents\", grade_documents)  # grade documents\n",
    "workflow.add_node(\"generate\", generate)  # generate\n",
    "workflow.add_node(\"transform_query\", transform_query)  # transform_query\n",
    "\n",
    "# Build graph\n",
    "workflow.add_conditional_edges(\n",
    "    START,\n",
    "    route_question,\n",
    "    {\n",
    "        \"web_search\": \"web_search\",\n",
    "        \"vectorstore\": \"translate_query\",  # Check if query needs translation\n",
    "    },\n",
    ")\n",
    "workflow.add_edge(\"translate_query\", \"retrieve\")  # Translate query before retrieving\n",
    "workflow.add_edge(\"web_search\", \"generate\")\n",
    "workflow.add_edge(\"retrieve\", \"grade_documents\")\n",
    "workflow.add_conditional_edges(\n",
    "    \"grade_documents\",\n",
    "    decide_to_generate,\n",
    "    {\n",
    "        \"transform_query\": \"transform_query\",\n",
    "        \"generate\": \"generate\",\n",
    "    },\n",
    ")\n",
    "workflow.add_edge(\"transform_query\", \"retrieve\")\n",
    "workflow.add_conditional_edges(\n",
    "    \"generate\",\n",
    "    grade_generation_v_documents_and_question,\n",
    "    {\n",
    "        \"not supported\": \"generate\",\n",
    "        \"useful\": END,\n",
    "        \"not useful\": \"transform_query\",\n",
    "    },\n",
    ")\n",
    "\n",
    "# Compile\n",
    "app = workflow.compile()"
   ]
  },
  {
   "cell_type": "markdown",
   "metadata": {},
   "source": [
    "### visualize the agent flow"
   ]
  },
  {
   "cell_type": "code",
   "execution_count": 22,
   "metadata": {},
   "outputs": [
    {
     "data": {
      "image/jpeg": "[encoded data removed]",
      "text/plain": [
       "<IPython.core.display.Image object>"
      ]
     },
     "metadata": {},
     "output_type": "display_data"
    }
   ],
   "source": [
    "#Draw the graph\n",
    "\n",
    "from IPython.display import Image, display\n",
    "from langchain_core.runnables.graph import MermaidDrawMethod\n",
    "\n",
    "display(\n",
    "    Image(\n",
    "        app.get_graph().draw_mermaid_png(\n",
    "            draw_method=MermaidDrawMethod.API,\n",
    "        )\n",
    "    )\n",
    ")"
   ]
  },
  {
   "cell_type": "code",
   "execution_count": 36,
   "metadata": {},
   "outputs": [
    {
     "name": "stdout",
     "output_type": "stream",
     "text": [
      "---ROUTE QUESTION---\n",
      "---ROUTE QUESTION TO RAG---\n",
      "---TRANSLATE THE QUERY TO ENGLISH---\n",
      "---RETRIEVE---\n",
      "---CHECK DOCUMENT RELEVANCE TO QUESTION---\n",
      "---GRADE: DOCUMENT RELEVANT---\n",
      "---GRADE: DOCUMENT NOT RELEVANT---\n",
      "---GRADE: DOCUMENT RELEVANT---\n",
      "---ASSESS GRADED DOCUMENTS---\n",
      "---DECISION: GENERATE---\n",
      "---GENERATE---\n",
      "---CHECK HALLUCINATIONS---\n",
      "---DECISION: GENERATION IS GROUNDED IN DOCUMENTS---\n",
      "---GRADE GENERATION vs QUESTION---\n",
      "---DECISION: GENERATION ADDRESSES QUESTION---\n"
     ]
    },
    {
     "data": {
      "text/plain": [
       "\"The Suleymaniye Mosque is one of the most significant landmarks in Istanbul, both architecturally and historically. It was commissioned by Sultan Suleyman the Magnificent, one of the most illustrious rulers of the Ottoman Empire, and was completed in 1557. The mosque was designed by the renowned Ottoman chief architect Mimar Sinan, who is celebrated for his contributions to Ottoman architecture and is often regarded as one of the greatest architects in history.\\n\\nThe mosque is situated on one of the highest hills in Istanbul, allowing it to dominate the city's skyline. It was built as a grand statement of the Ottoman Empire's power and sophistication, serving as an Islamic counterpart to the Byzantine Hagia Sophia, which had been a symbol of Christian architecture for centuries.\\n\\nThe architectural design of the Suleymaniye Mosque is particularly noteworthy for its vast central dome, which is surrounded by tiered domes, creating a harmonious and majestic interior space. Sinan's innovative use of the dome was a significant advancement in architectural design, and it is often cited as a perfect example of his mastery in this area.\\n\\nIn addition to its architectural beauty, the mosque complex includes a variety of other structures, such as a madrasa (educational institution), a hospital, and a public kitchen, which served the poor. The Suleymaniye Mosque not only serves as a place of worship but also as a center for community life in Istanbul.\\n\\nOverall, the Suleymaniye Mosque stands as a testament to the artistic and cultural achievements of the Ottoman Empire during its zenith, reflecting the empire's commitment to both religious devotion and architectural innovation.\""
      ]
     },
     "execution_count": 36,
     "metadata": {},
     "output_type": "execute_result"
    }
   ],
   "source": [
    "app.invoke({\"question\":\"쉴레이마니예 모스크의 역사에 대한 정보를 제공하세요.\"})[\"generation\"]"
   ]
  },
  {
   "cell_type": "code",
   "execution_count": 27,
   "metadata": {},
   "outputs": [
    {
     "data": {
      "text/plain": [
       "'As of 2024, the estimated population of Istanbul is approximately 16,047,350 according to the latest projections from the UN World Urbanization Prospects. This reflects a growth of about 199,582 people from the previous year, indicating a 1.26% annual increase. The Turkish Statistical Institute also provides a slightly different figure, estimating the population at around 15,815,231. Regardless of the source, it is clear that Istanbul continues to be a rapidly growing metropolis, with significant population growth observed over the decades.'"
      ]
     },
     "execution_count": 27,
     "metadata": {},
     "output_type": "execute_result"
    }
   ],
   "source": [
    "response[\"generation\"]"
   ]
  },
  {
   "cell_type": "markdown",
   "metadata": {},
   "source": [
    "## run the agents to get response"
   ]
  },
  {
   "cell_type": "markdown",
   "metadata": {},
   "source": [
    "### use web-search tool"
   ]
  },
  {
   "cell_type": "code",
   "execution_count": 29,
   "metadata": {},
   "outputs": [
    {
     "name": "stdout",
     "output_type": "stream",
     "text": [
      "---ROUTE QUESTION---\n",
      "---ROUTE QUESTION TO WEB SEARCH---\n",
      "---WEB SEARCH---\n",
      "\"Node 'web_search':\"\n",
      "'\\n---\\n'\n",
      "---GENERATE---\n",
      "---CHECK HALLUCINATIONS---\n",
      "---DECISION: GENERATION IS GROUNDED IN DOCUMENTS---\n",
      "---GRADE GENERATION vs QUESTION---\n",
      "---DECISION: GENERATION ADDRESSES QUESTION---\n",
      "\"Node 'generate':\"\n",
      "'\\n---\\n'\n",
      "('As of now, the weather in Istanbul is quite pleasant. The current '\n",
      " 'temperature is approximately 28.2°C (82.8°F), and it is sunny, making it a '\n",
      " 'great day to explore the city. The humidity level is around 70%, which can '\n",
      " 'make it feel a bit warmer, with a \"feels like\" temperature of 28.3°C '\n",
      " '(83.0°F). \\n'\n",
      " '\\n'\n",
      " 'There is a moderate breeze coming from the west-southwest at about 11.9 mph '\n",
      " '(19.1 kph), which can provide some relief from the heat. The atmospheric '\n",
      " 'pressure is 1008 mb, and there are no precipitation forecasts, so you can '\n",
      " 'expect a dry day. Visibility is good at 10 km (6 miles), and the UV index is '\n",
      " \"relatively high at 8.0, so it's advisable to wear sunscreen if you're \"\n",
      " 'spending time outdoors.\\n'\n",
      " '\\n'\n",
      " \"Overall, it's a beautiful sunny day in Istanbul, perfect for sightseeing and \"\n",
      " \"enjoying the city's rich history and vibrant culture!\")\n",
      "Estimated response time: 9.439798831939697 seconds.\n"
     ]
    }
   ],
   "source": [
    "import time\n",
    "from pprint import pprint\n",
    "\n",
    "# Run\n",
    "inputs = {\n",
    "    \"question\": \"What is the weather like in Istanbul now?\"\n",
    "    }\n",
    "\n",
    "start = time.time()\n",
    "for output in app.stream(inputs):\n",
    "    for key, value in output.items():\n",
    "        # Node\n",
    "        pprint(f\"Node '{key}':\")\n",
    "        # Optional: print full state at each node\n",
    "        # pprint.pprint(value[\"keys\"], indent=2, width=80, depth=None)\n",
    "    pprint(\"\\n---\\n\")\n",
    "\n",
    "# Final generation\n",
    "pprint(value[\"generation\"])\n",
    "end = time.time()\n",
    "\n",
    "print(f\"Estimated response time: {end-start} seconds.\")"
   ]
  },
  {
   "cell_type": "markdown",
   "metadata": {},
   "source": [
    "### use vectorstore to answer the question"
   ]
  },
  {
   "cell_type": "code",
   "execution_count": 31,
   "metadata": {},
   "outputs": [
    {
     "name": "stdout",
     "output_type": "stream",
     "text": [
      "---ROUTE QUESTION---\n",
      "---ROUTE QUESTION TO RAG---\n",
      "---TRANSLATE THE QUERY TO ENGLISH---\n",
      "\"Node 'translate_query':\"\n",
      "'\\n---\\n'\n",
      "---RETRIEVE---\n",
      "\"Node 'retrieve':\"\n",
      "'\\n---\\n'\n",
      "---CHECK DOCUMENT RELEVANCE TO QUESTION---\n",
      "---GRADE: DOCUMENT NOT RELEVANT---\n",
      "---GRADE: DOCUMENT NOT RELEVANT---\n",
      "---GRADE: DOCUMENT NOT RELEVANT---\n",
      "---ASSESS GRADED DOCUMENTS---\n",
      "---DECISION: ALL DOCUMENTS ARE NOT RELEVANT TO QUESTION, TRANSFORM QUERY---\n",
      "\"Node 'grade_documents':\"\n",
      "'\\n---\\n'\n",
      "---TRANSFORM QUERY---\n",
      "\"Node 'transform_query':\"\n",
      "'\\n---\\n'\n",
      "---RETRIEVE---\n",
      "\"Node 'retrieve':\"\n",
      "'\\n---\\n'\n",
      "---CHECK DOCUMENT RELEVANCE TO QUESTION---\n",
      "---GRADE: DOCUMENT NOT RELEVANT---\n",
      "---GRADE: DOCUMENT NOT RELEVANT---\n",
      "---GRADE: DOCUMENT NOT RELEVANT---\n",
      "---ASSESS GRADED DOCUMENTS---\n",
      "---DECISION: ALL DOCUMENTS ARE NOT RELEVANT TO QUESTION, TRANSFORM QUERY---\n",
      "\"Node 'grade_documents':\"\n",
      "'\\n---\\n'\n",
      "---TRANSFORM QUERY---\n",
      "\"Node 'transform_query':\"\n",
      "'\\n---\\n'\n",
      "---RETRIEVE---\n",
      "\"Node 'retrieve':\"\n",
      "'\\n---\\n'\n",
      "---CHECK DOCUMENT RELEVANCE TO QUESTION---\n",
      "---GRADE: DOCUMENT NOT RELEVANT---\n",
      "---GRADE: DOCUMENT RELEVANT---\n",
      "---GRADE: DOCUMENT NOT RELEVANT---\n",
      "---ASSESS GRADED DOCUMENTS---\n",
      "---DECISION: GENERATE---\n",
      "\"Node 'grade_documents':\"\n",
      "'\\n---\\n'\n",
      "---GENERATE---\n",
      "---CHECK HALLUCINATIONS---\n",
      "---DECISION: GENERATION IS GROUNDED IN DOCUMENTS---\n",
      "---GRADE GENERATION vs QUESTION---\n",
      "---DECISION: GENERATION ADDRESSES QUESTION---\n",
      "\"Node 'generate':\"\n",
      "'\\n---\\n'\n",
      "('The Hagia Sophia was designed by the architects Isidore of Miletus and '\n",
      " 'Anthemius of Tralles. They were commissioned by the Byzantine Emperor '\n",
      " 'Justinian I and completed the construction in 537 AD. The Hagia Sophia '\n",
      " \"served as the world's largest cathedral for nearly a thousand years before \"\n",
      " 'being converted into a mosque after the Ottoman conquest of Constantinople '\n",
      " 'in 1453. The building is renowned for its massive dome and stunning mosaics, '\n",
      " 'and it has undergone various modifications over the centuries, including the '\n",
      " 'addition of minarets designed by the famous Ottoman architect Mimar Sinan.')\n",
      "Estimated response time: 14.553698062896729 seconds.\n"
     ]
    }
   ],
   "source": [
    "import time\n",
    "from pprint import pprint\n",
    "\n",
    "# Run\n",
    "inputs = {\n",
    "    \"question\": \"Who was built the Hagia Sophia?\"\n",
    "    }\n",
    "\n",
    "start = time.time()\n",
    "for output in app.stream(inputs):\n",
    "    for key, value in output.items():\n",
    "        # Node\n",
    "        pprint(f\"Node '{key}':\")\n",
    "        # Optional: print full state at each node\n",
    "        # pprint.pprint(value[\"keys\"], indent=2, width=80, depth=None)\n",
    "    pprint(\"\\n---\\n\")\n",
    "\n",
    "# Final generation\n",
    "pprint(value[\"generation\"])\n",
    "end = time.time()\n",
    "\n",
    "print(f\"Estimated response time: {end-start} seconds.\")"
   ]
  },
  {
   "cell_type": "code",
   "execution_count": 32,
   "metadata": {},
   "outputs": [
    {
     "name": "stdout",
     "output_type": "stream",
     "text": [
      "---ROUTE QUESTION---\n",
      "---ROUTE QUESTION TO RAG---\n",
      "---TRANSLATE THE QUERY TO ENGLISH---\n",
      "\"Node 'translate_query':\"\n",
      "'\\n---\\n'\n",
      "---RETRIEVE---\n",
      "\"Node 'retrieve':\"\n",
      "'\\n---\\n'\n",
      "---CHECK DOCUMENT RELEVANCE TO QUESTION---\n",
      "---GRADE: DOCUMENT RELEVANT---\n",
      "---GRADE: DOCUMENT RELEVANT---\n",
      "---GRADE: DOCUMENT RELEVANT---\n",
      "---ASSESS GRADED DOCUMENTS---\n",
      "---DECISION: GENERATE---\n",
      "\"Node 'grade_documents':\"\n",
      "'\\n---\\n'\n",
      "---GENERATE---\n",
      "---CHECK HALLUCINATIONS---\n",
      "---DECISION: GENERATION IS GROUNDED IN DOCUMENTS---\n",
      "---GRADE GENERATION vs QUESTION---\n",
      "---DECISION: GENERATION ADDRESSES QUESTION---\n",
      "\"Node 'generate':\"\n",
      "'\\n---\\n'\n",
      "('Certainly! Here are three historical places to visit in Istanbul that are '\n",
      " 'rich in history and culture:\\n'\n",
      " '\\n'\n",
      " '1. **Hagia Sophia (Ayasofya)**: Originally constructed as a Christian '\n",
      " \"basilica in 537 AD, Hagia Sophia is one of Istanbul's most iconic landmarks. \"\n",
      " 'It features a vast interior adorned with stunning mosaics and a magnificent '\n",
      " 'dome that was an architectural marvel of its time. After serving as a '\n",
      " 'cathedral for nearly a thousand years, it was converted into a mosque in '\n",
      " '1453 following the Ottoman conquest and later became a museum. In 2020, it '\n",
      " 'was reconverted into a mosque, but it remains open to visitors who can '\n",
      " 'admire its breathtaking architecture and historical significance.\\n'\n",
      " '\\n'\n",
      " '2. **Topkapi Palace (Topkapı Sarayı)**: This opulent palace served as the '\n",
      " 'primary residence of the Ottoman sultans for over 400 years. Located in the '\n",
      " 'historic Sultanahmet district, Topkapi Palace is a sprawling complex that '\n",
      " 'includes beautiful courtyards, lavish rooms, and a stunning view of the '\n",
      " \"Bosphorus. Visitors can explore the palace's rich collections, including \"\n",
      " 'imperial treasures, manuscripts, and the famous Harem section, which offers '\n",
      " 'insight into the private lives of the sultans and their families.\\n'\n",
      " '\\n'\n",
      " '3. **Blue Mosque (Sultan Ahmed Mosque)**: Known for its striking blue tiles '\n",
      " 'that adorn its interior, the Blue Mosque is another architectural '\n",
      " 'masterpiece of Istanbul. Built between 1609 and 1616, it was commissioned by '\n",
      " 'Sultan Ahmed I and is famous for its six minarets and grand dome. The mosque '\n",
      " 'is still an active place of worship, and visitors are welcome to explore its '\n",
      " 'stunning prayer hall and courtyard, while also respecting the customs of the '\n",
      " 'mosque.\\n'\n",
      " '\\n'\n",
      " 'These three sites are not only significant for their historical and '\n",
      " 'architectural value but also provide a glimpse into the rich cultural '\n",
      " 'tapestry of Istanbul.')\n",
      "Estimated response time: 12.39739203453064 seconds.\n"
     ]
    }
   ],
   "source": [
    "import time\n",
    "from pprint import pprint\n",
    "\n",
    "# Run\n",
    "inputs = {\n",
    "    \"question\": \"İstanbul'da gezmek için 3 tane tarihi mekan önerebilir misin? Bu mekanlardan çok kısaca bahset?\"\n",
    "    }\n",
    "\n",
    "start = time.time()\n",
    "for output in app.stream(inputs):\n",
    "    for key, value in output.items():\n",
    "        # Node\n",
    "        pprint(f\"Node '{key}':\")\n",
    "        # Optional: print full state at each node\n",
    "        # pprint.pprint(value[\"keys\"], indent=2, width=80, depth=None)\n",
    "    pprint(\"\\n---\\n\")\n",
    "\n",
    "# Final generation\n",
    "pprint(value[\"generation\"])\n",
    "end = time.time()\n",
    "\n",
    "print(f\"Estimated response time: {end-start} seconds.\")"
   ]
  },
  {
   "cell_type": "code",
   "execution_count": 33,
   "metadata": {},
   "outputs": [
    {
     "name": "stdout",
     "output_type": "stream",
     "text": [
      "---ROUTE QUESTION---\n",
      "---ROUTE QUESTION TO WEB SEARCH---\n",
      "---WEB SEARCH---\n",
      "\"Node 'web_search':\"\n",
      "'\\n---\\n'\n",
      "---GENERATE---\n",
      "---CHECK HALLUCINATIONS---\n",
      "---DECISION: GENERATION IS GROUNDED IN DOCUMENTS---\n",
      "---GRADE GENERATION vs QUESTION---\n",
      "---DECISION: GENERATION ADDRESSES QUESTION---\n",
      "\"Node 'generate':\"\n",
      "'\\n---\\n'\n",
      "('С 29 июля 2024 года в Стамбуле действуют новые тарифы на общественный '\n",
      " 'транспорт. Вот актуальные цены на разовые электронные билеты:\\n'\n",
      " '\\n'\n",
      " '- 1 поездка — ₺30\\n'\n",
      " '- 2 поездки — ₺50\\n'\n",
      " '- 3 поездки — ₺80\\n'\n",
      " '- 4 поездки — ₺100\\n'\n",
      " '- 5 поездок — ₺120\\n'\n",
      " '\\n'\n",
      " 'Также стоит отметить, что стоимость проезда с использованием карты '\n",
      " 'Истанбулкарт значительно дешевле. В 2022 году цена самой карты составляла 10 '\n",
      " 'TL, и при покупке необходимо было положить на карту не менее четырех лир. '\n",
      " 'Цена за одну поездку с Истанбулкарт на 50% ниже, чем при покупке разового '\n",
      " 'билета.\\n'\n",
      " '\\n'\n",
      " 'Общественный транспорт в Стамбуле включает в себя автобусы, трамваи, '\n",
      " 'маршрутки-долмуши, метро, электрички, паромы и фуникулеры, что делает его '\n",
      " 'очень удобным для передвижения по городу.')\n",
      "Estimated response time: 8.688331604003906 seconds.\n"
     ]
    }
   ],
   "source": [
    "import time\n",
    "from pprint import pprint\n",
    "\n",
    "# Run\n",
    "inputs = {\n",
    "    \"question\": \"Какие текущие цены на общественный транспорт в Стамбул?\"\n",
    "    }\n",
    "\n",
    "start = time.time()\n",
    "for output in app.stream(inputs):\n",
    "    for key, value in output.items():\n",
    "        # Node\n",
    "        pprint(f\"Node '{key}':\")\n",
    "        # Optional: print full state at each node\n",
    "        # pprint.pprint(value[\"keys\"], indent=2, width=80, depth=None)\n",
    "    pprint(\"\\n---\\n\")\n",
    "\n",
    "# Final generation\n",
    "pprint(value[\"generation\"])\n",
    "end = time.time()\n",
    "\n",
    "print(f\"Estimated response time: {end-start} seconds.\")"
   ]
  },
  {
   "cell_type": "code",
   "execution_count": 35,
   "metadata": {},
   "outputs": [
    {
     "name": "stdout",
     "output_type": "stream",
     "text": [
      "---ROUTE QUESTION---\n",
      "---ROUTE QUESTION TO RAG---\n",
      "---TRANSLATE THE QUERY TO ENGLISH---\n",
      "\"Node 'translate_query':\"\n",
      "'\\n---\\n'\n",
      "---RETRIEVE---\n",
      "\"Node 'retrieve':\"\n",
      "'\\n---\\n'\n",
      "---CHECK DOCUMENT RELEVANCE TO QUESTION---\n",
      "---GRADE: DOCUMENT RELEVANT---\n",
      "---GRADE: DOCUMENT NOT RELEVANT---\n",
      "---GRADE: DOCUMENT RELEVANT---\n",
      "---ASSESS GRADED DOCUMENTS---\n",
      "---DECISION: GENERATE---\n",
      "\"Node 'grade_documents':\"\n",
      "'\\n---\\n'\n",
      "---GENERATE---\n",
      "---CHECK HALLUCINATIONS---\n",
      "---DECISION: GENERATION IS GROUNDED IN DOCUMENTS---\n",
      "---GRADE GENERATION vs QUESTION---\n",
      "---DECISION: GENERATION ADDRESSES QUESTION---\n",
      "\"Node 'generate':\"\n",
      "'\\n---\\n'\n",
      "('The Suleymaniye Mosque is one of the most significant landmarks in Istanbul, '\n",
      " 'both architecturally and historically. It was commissioned by Sultan '\n",
      " 'Suleyman the Magnificent, one of the most renowned sultans of the Ottoman '\n",
      " 'Empire, and was completed in 1557. The mosque was designed by the celebrated '\n",
      " 'Ottoman architect Mimar Sinan, who is often regarded as the greatest '\n",
      " 'architect of the Ottoman period. \\n'\n",
      " '\\n'\n",
      " 'The Suleymaniye Mosque is situated on one of the highest hills in Istanbul, '\n",
      " \"allowing it to dominate the city's skyline. It was constructed as an Islamic \"\n",
      " 'response to the grandeur of the Byzantine Hagia Sophia, showcasing the power '\n",
      " 'and cultural achievements of the Ottoman Empire at its zenith. \\n'\n",
      " '\\n'\n",
      " 'The mosque features a vast central dome, which is surrounded by tiered '\n",
      " 'domes, creating a stunning visual effect both from the outside and within. '\n",
      " \"Mimar Sinan's design is noted for its harmonious proportions and innovative \"\n",
      " 'use of space, which helped to perfect the central dome concept in mosque '\n",
      " 'architecture. \\n'\n",
      " '\\n'\n",
      " 'In addition to its architectural beauty, the Suleymaniye Mosque complex '\n",
      " 'includes a variety of other structures, such as a medrese (educational '\n",
      " \"institution), a hospital, and a public kitchen, reflecting the mosque's role \"\n",
      " 'as a center of community life during the Ottoman period. The mosque remains '\n",
      " \"a vital part of Istanbul's cultural heritage and continues to attract \"\n",
      " 'visitors from around the world.')\n",
      "Estimated response time: 9.981639623641968 seconds.\n"
     ]
    }
   ],
   "source": [
    "import time\n",
    "from pprint import pprint\n",
    "\n",
    "# Run\n",
    "inputs = {\n",
    "    \"question\": \"쉴레이마니예 모스크의 역사에 대한 정보를 제공하세요.\"\n",
    "    }\n",
    "\n",
    "start = time.time()\n",
    "for output in app.stream(inputs):\n",
    "    for key, value in output.items():\n",
    "        # Node\n",
    "        pprint(f\"Node '{key}':\")\n",
    "        # Optional: print full state at each node\n",
    "        # pprint.pprint(value[\"keys\"], indent=2, width=80, depth=None)\n",
    "    pprint(\"\\n---\\n\")\n",
    "\n",
    "# Final generation\n",
    "pprint(value[\"generation\"])\n",
    "end = time.time()\n",
    "\n",
    "print(f\"Estimated response time: {end-start} seconds.\")"
   ]
  }
 ],
 "metadata": {
  "kernelspec": {
   "display_name": "base",
   "language": "python",
   "name": "python3"
  },
  "language_info": {
   "codemirror_mode": {
    "name": "ipython",
    "version": 3
   },
   "file_extension": ".py",
   "mimetype": "text/x-python",
   "name": "python",
   "nbconvert_exporter": "python",
   "pygments_lexer": "ipython3",
   "version": "3.10.9"
  }
 },
 "nbformat": 4,
 "nbformat_minor": 2
}
